{
  "cells": [
    {
      "cell_type": "markdown",
      "id": "3c5a5cd2",
      "metadata": {
        "id": "3c5a5cd2"
      },
      "source": [
        "Practical questions (Data Types and Structures) (Code)\n"
      ]
    },
    {
      "cell_type": "markdown",
      "id": "76bcd712",
      "metadata": {
        "id": "76bcd712"
      },
      "source": [
        "### 1) Create a string with your name and print it"
      ]
    },
    {
      "cell_type": "code",
      "execution_count": 5,
      "id": "8bf37f57",
      "metadata": {
        "colab": {
          "base_uri": "https://localhost:8080/"
        },
        "id": "8bf37f57",
        "outputId": "74bfeeca-4107-4885-b519-3c487d0545b5"
      },
      "outputs": [
        {
          "output_type": "stream",
          "name": "stdout",
          "text": [
            "my name is Mohit\n"
          ]
        }
      ],
      "source": [
        "name = 'Mohit'\n",
        "print('my name is',name)"
      ]
    },
    {
      "cell_type": "markdown",
      "id": "f29dac4c",
      "metadata": {
        "id": "f29dac4c"
      },
      "source": [
        "### 2) Length of 'Hello World'"
      ]
    },
    {
      "cell_type": "code",
      "execution_count": 2,
      "id": "bd81b2c6",
      "metadata": {
        "colab": {
          "base_uri": "https://localhost:8080/"
        },
        "id": "bd81b2c6",
        "outputId": "3ee6fcbe-f01a-4007-aa86-3372ecfd07eb"
      },
      "outputs": [
        {
          "output_type": "stream",
          "name": "stdout",
          "text": [
            "11\n"
          ]
        }
      ],
      "source": [
        "s = 'Hello World'\n",
        "print(len(s))"
      ]
    },
    {
      "cell_type": "markdown",
      "id": "5a0393d6",
      "metadata": {
        "id": "5a0393d6"
      },
      "source": [
        "### 3) Slice first 3 chars from 'Python Programming'"
      ]
    },
    {
      "cell_type": "code",
      "execution_count": 6,
      "id": "a39ed941",
      "metadata": {
        "colab": {
          "base_uri": "https://localhost:8080/"
        },
        "id": "a39ed941",
        "outputId": "527e7217-668e-4f29-dee3-b9f5da4b342e"
      },
      "outputs": [
        {
          "output_type": "stream",
          "name": "stdout",
          "text": [
            "Pyt\n"
          ]
        }
      ],
      "source": [
        "s = 'Python Programming'\n",
        "print(s[:3])"
      ]
    },
    {
      "cell_type": "markdown",
      "id": "48f47e2d",
      "metadata": {
        "id": "48f47e2d"
      },
      "source": [
        "### 4) Convert 'hello' to uppercase"
      ]
    },
    {
      "cell_type": "code",
      "execution_count": 7,
      "id": "ac208efb",
      "metadata": {
        "colab": {
          "base_uri": "https://localhost:8080/"
        },
        "id": "ac208efb",
        "outputId": "0babfaa1-9275-4919-c045-9e37898cd047"
      },
      "outputs": [
        {
          "output_type": "stream",
          "name": "stdout",
          "text": [
            "HELLO\n"
          ]
        }
      ],
      "source": [
        "s = 'hello'\n",
        "print(s.upper())"
      ]
    },
    {
      "cell_type": "markdown",
      "id": "44d25bd8",
      "metadata": {
        "id": "44d25bd8"
      },
      "source": [
        "### 5) Replace 'apple' with 'orange'"
      ]
    },
    {
      "cell_type": "code",
      "execution_count": 8,
      "id": "80063824",
      "metadata": {
        "colab": {
          "base_uri": "https://localhost:8080/"
        },
        "id": "80063824",
        "outputId": "eac4967e-00d7-4268-b1c4-eda378c072bf"
      },
      "outputs": [
        {
          "output_type": "stream",
          "name": "stdout",
          "text": [
            "I like orange\n"
          ]
        }
      ],
      "source": [
        "s = 'I like apple'\n",
        "print(s.replace('apple','orange'))"
      ]
    },
    {
      "cell_type": "markdown",
      "id": "fc9f0937",
      "metadata": {
        "id": "fc9f0937"
      },
      "source": [
        "### 6) Create list 1..5"
      ]
    },
    {
      "cell_type": "code",
      "execution_count": 9,
      "id": "72fe4e89",
      "metadata": {
        "colab": {
          "base_uri": "https://localhost:8080/"
        },
        "id": "72fe4e89",
        "outputId": "d8f25c43-7082-4e3c-c90b-17faef478c0c"
      },
      "outputs": [
        {
          "output_type": "stream",
          "name": "stdout",
          "text": [
            "[1, 2, 3, 4, 5]\n"
          ]
        }
      ],
      "source": [
        "lst = [1,2,3,4,5]\n",
        "print(lst)"
      ]
    },
    {
      "cell_type": "markdown",
      "id": "af1ec137",
      "metadata": {
        "id": "af1ec137"
      },
      "source": [
        "### 7) Append 10 to [1,2,3,4]"
      ]
    },
    {
      "cell_type": "code",
      "execution_count": 10,
      "id": "2e1105b2",
      "metadata": {
        "colab": {
          "base_uri": "https://localhost:8080/"
        },
        "id": "2e1105b2",
        "outputId": "24ec3934-4cd6-444e-8167-472f7a0dcaae"
      },
      "outputs": [
        {
          "output_type": "stream",
          "name": "stdout",
          "text": [
            "[1, 2, 3, 4, 10]\n"
          ]
        }
      ],
      "source": [
        "lst = [1,2,3,4]\n",
        "lst.append(10)\n",
        "print(lst)"
      ]
    },
    {
      "cell_type": "markdown",
      "id": "25b2a51c",
      "metadata": {
        "id": "25b2a51c"
      },
      "source": [
        "### 8) Remove 3 from [1,2,3,4,5]"
      ]
    },
    {
      "cell_type": "code",
      "execution_count": 11,
      "id": "84f89e7a",
      "metadata": {
        "colab": {
          "base_uri": "https://localhost:8080/"
        },
        "id": "84f89e7a",
        "outputId": "f7c3081d-a103-4204-b59c-b16a6b17d673"
      },
      "outputs": [
        {
          "output_type": "stream",
          "name": "stdout",
          "text": [
            "[1, 2, 4, 5]\n"
          ]
        }
      ],
      "source": [
        "lst = [1,2,3,4,5]\n",
        "lst.remove(3)\n",
        "print(lst)"
      ]
    },
    {
      "cell_type": "markdown",
      "id": "457dd00c",
      "metadata": {
        "id": "457dd00c"
      },
      "source": [
        "### 9) Access 2nd element ['a','b','c','d']"
      ]
    },
    {
      "cell_type": "code",
      "execution_count": 12,
      "id": "f97edea2",
      "metadata": {
        "colab": {
          "base_uri": "https://localhost:8080/"
        },
        "id": "f97edea2",
        "outputId": "9b32fc0a-cc6f-4e35-8adc-eca663ecd9ed"
      },
      "outputs": [
        {
          "output_type": "stream",
          "name": "stdout",
          "text": [
            "b\n"
          ]
        }
      ],
      "source": [
        "lst=['a','b','c','d']\n",
        "print(lst[1])"
      ]
    },
    {
      "cell_type": "markdown",
      "id": "f43ad569",
      "metadata": {
        "id": "f43ad569"
      },
      "source": [
        "### 10) Reverse [10,20,30,40,50]"
      ]
    },
    {
      "cell_type": "code",
      "execution_count": 13,
      "id": "0c67c1b7",
      "metadata": {
        "colab": {
          "base_uri": "https://localhost:8080/"
        },
        "id": "0c67c1b7",
        "outputId": "fb6d0d91-207b-4c43-9e75-ea98892ac641"
      },
      "outputs": [
        {
          "output_type": "stream",
          "name": "stdout",
          "text": [
            "[50, 40, 30, 20, 10]\n"
          ]
        }
      ],
      "source": [
        "lst=[10,20,30,40,50]\n",
        "lst.reverse()\n",
        "print(lst)"
      ]
    },
    {
      "cell_type": "markdown",
      "id": "25696872",
      "metadata": {
        "id": "25696872"
      },
      "source": [
        "### 11) Create tuple (100,200,300)"
      ]
    },
    {
      "cell_type": "code",
      "execution_count": 14,
      "id": "8c953aab",
      "metadata": {
        "colab": {
          "base_uri": "https://localhost:8080/"
        },
        "id": "8c953aab",
        "outputId": "805b15f4-e44b-4caa-f2a0-e49b3ef9f6f8"
      },
      "outputs": [
        {
          "output_type": "stream",
          "name": "stdout",
          "text": [
            "(100, 200, 300)\n"
          ]
        }
      ],
      "source": [
        "tpl=(100,200,300)\n",
        "print(tpl)"
      ]
    },
    {
      "cell_type": "markdown",
      "id": "2c66944d",
      "metadata": {
        "id": "2c66944d"
      },
      "source": [
        "### 12) Access 2nd-last ('red','green','blue','yellow')"
      ]
    },
    {
      "cell_type": "code",
      "execution_count": 15,
      "id": "2bc42694",
      "metadata": {
        "colab": {
          "base_uri": "https://localhost:8080/"
        },
        "id": "2bc42694",
        "outputId": "1c0a2f54-803c-4011-9f37-43a55fa9b55c"
      },
      "outputs": [
        {
          "output_type": "stream",
          "name": "stdout",
          "text": [
            "blue\n"
          ]
        }
      ],
      "source": [
        "tpl=('red','green','blue','yellow')\n",
        "print(tpl[-2])"
      ]
    },
    {
      "cell_type": "markdown",
      "id": "9f82bbb6",
      "metadata": {
        "id": "9f82bbb6"
      },
      "source": [
        "### 13) Min in (10,20,5,15)"
      ]
    },
    {
      "cell_type": "code",
      "execution_count": 16,
      "id": "55782337",
      "metadata": {
        "colab": {
          "base_uri": "https://localhost:8080/"
        },
        "id": "55782337",
        "outputId": "24bec5a6-adaa-4978-e126-44053e28f2d1"
      },
      "outputs": [
        {
          "output_type": "stream",
          "name": "stdout",
          "text": [
            "5\n"
          ]
        }
      ],
      "source": [
        "tpl=(10,20,5,15)\n",
        "print(min(tpl))"
      ]
    },
    {
      "cell_type": "markdown",
      "id": "ec9497e6",
      "metadata": {
        "id": "ec9497e6"
      },
      "source": [
        "### 14) Index of 'cat'"
      ]
    },
    {
      "cell_type": "code",
      "execution_count": 17,
      "id": "bad75965",
      "metadata": {
        "colab": {
          "base_uri": "https://localhost:8080/"
        },
        "id": "bad75965",
        "outputId": "aecf0f46-3ec4-4950-ab60-24002f680dd6"
      },
      "outputs": [
        {
          "output_type": "stream",
          "name": "stdout",
          "text": [
            "1\n"
          ]
        }
      ],
      "source": [
        "tpl=('dog','cat','rabbit')\n",
        "print(tpl.index('cat'))"
      ]
    },
    {
      "cell_type": "markdown",
      "id": "e8ac4d96",
      "metadata": {
        "id": "e8ac4d96"
      },
      "source": [
        "### 15) Fruits tuple & check 'kiwi'"
      ]
    },
    {
      "cell_type": "code",
      "execution_count": 18,
      "id": "407687d7",
      "metadata": {
        "colab": {
          "base_uri": "https://localhost:8080/"
        },
        "id": "407687d7",
        "outputId": "c6cb2168-5d5f-46de-dd46-4a14e70e4387"
      },
      "outputs": [
        {
          "output_type": "stream",
          "name": "stdout",
          "text": [
            "False\n"
          ]
        }
      ],
      "source": [
        "tpl=('apple','banana','mango')\n",
        "print('kiwi' in tpl)"
      ]
    },
    {
      "cell_type": "markdown",
      "id": "9a2b9d43",
      "metadata": {
        "id": "9a2b9d43"
      },
      "source": [
        "### 16) Create set {'a','b','c'}"
      ]
    },
    {
      "cell_type": "code",
      "execution_count": 19,
      "id": "e51cfae3",
      "metadata": {
        "colab": {
          "base_uri": "https://localhost:8080/"
        },
        "id": "e51cfae3",
        "outputId": "5b1e7748-32d8-4962-d7b2-2b5185c1818a"
      },
      "outputs": [
        {
          "output_type": "stream",
          "name": "stdout",
          "text": [
            "{'c', 'b', 'a'}\n"
          ]
        }
      ],
      "source": [
        "st={'a','b','c'}\n",
        "print(st)"
      ]
    },
    {
      "cell_type": "markdown",
      "id": "da1ff728",
      "metadata": {
        "id": "da1ff728"
      },
      "source": [
        "### 17) Clear set {1,2,3,4,5}"
      ]
    },
    {
      "cell_type": "code",
      "execution_count": 20,
      "id": "3ad0d975",
      "metadata": {
        "colab": {
          "base_uri": "https://localhost:8080/"
        },
        "id": "3ad0d975",
        "outputId": "d809cc90-4334-4695-acb5-31ff4e5f84c2"
      },
      "outputs": [
        {
          "output_type": "stream",
          "name": "stdout",
          "text": [
            "set()\n"
          ]
        }
      ],
      "source": [
        "st={1,2,3,4,5}\n",
        "st.clear()\n",
        "print(st)"
      ]
    },
    {
      "cell_type": "markdown",
      "id": "aa406b9b",
      "metadata": {
        "id": "aa406b9b"
      },
      "source": [
        "### 18) Remove 4 from {1,2,3,4}"
      ]
    },
    {
      "cell_type": "code",
      "execution_count": 21,
      "id": "0b71bf5b",
      "metadata": {
        "colab": {
          "base_uri": "https://localhost:8080/"
        },
        "id": "0b71bf5b",
        "outputId": "0a61b9c9-a3fb-4777-e523-47486977ce13"
      },
      "outputs": [
        {
          "output_type": "stream",
          "name": "stdout",
          "text": [
            "{1, 2, 3}\n"
          ]
        }
      ],
      "source": [
        "st={1,2,3,4}\n",
        "st.remove(4)\n",
        "print(st)"
      ]
    },
    {
      "cell_type": "markdown",
      "id": "f5d5dd31",
      "metadata": {
        "id": "f5d5dd31"
      },
      "source": [
        "### 19) Union {1,2,3} & {3,4,5}"
      ]
    },
    {
      "cell_type": "code",
      "execution_count": 22,
      "id": "c839d067",
      "metadata": {
        "colab": {
          "base_uri": "https://localhost:8080/"
        },
        "id": "c839d067",
        "outputId": "b8e9e21a-1004-45e4-986c-2789dd562130"
      },
      "outputs": [
        {
          "output_type": "stream",
          "name": "stdout",
          "text": [
            "{1, 2, 3, 4, 5}\n"
          ]
        }
      ],
      "source": [
        "a={1,2,3}; b={3,4,5}\n",
        "print(a|b)"
      ]
    },
    {
      "cell_type": "markdown",
      "id": "b9b7e6a5",
      "metadata": {
        "id": "b9b7e6a5"
      },
      "source": [
        "### 20) Intersection {1,2,3} & {2,3,4}"
      ]
    },
    {
      "cell_type": "code",
      "execution_count": 23,
      "id": "e8bdfceb",
      "metadata": {
        "colab": {
          "base_uri": "https://localhost:8080/"
        },
        "id": "e8bdfceb",
        "outputId": "20fd4444-3f73-4586-9908-95db3f5197e8"
      },
      "outputs": [
        {
          "output_type": "stream",
          "name": "stdout",
          "text": [
            "{2, 3}\n"
          ]
        }
      ],
      "source": [
        "a={1,2,3}; b={2,3,4}\n",
        "print(a&b)"
      ]
    },
    {
      "cell_type": "markdown",
      "id": "83428709",
      "metadata": {
        "id": "83428709"
      },
      "source": [
        "### 21) Create dict with keys"
      ]
    },
    {
      "cell_type": "code",
      "execution_count": 24,
      "id": "6aeadf6a",
      "metadata": {
        "colab": {
          "base_uri": "https://localhost:8080/"
        },
        "id": "6aeadf6a",
        "outputId": "7ec3efc5-1b6b-49ca-9618-b084646c0401"
      },
      "outputs": [
        {
          "output_type": "stream",
          "name": "stdout",
          "text": [
            "{'name': 'John', 'age': 25, 'city': 'NY'}\n"
          ]
        }
      ],
      "source": [
        "d={'name':'John','age':25,'city':'NY'}\n",
        "print(d)"
      ]
    },
    {
      "cell_type": "markdown",
      "id": "fcffaa8d",
      "metadata": {
        "id": "fcffaa8d"
      },
      "source": [
        "### 22) Add 'country':'USA'"
      ]
    },
    {
      "cell_type": "code",
      "execution_count": 25,
      "id": "80166335",
      "metadata": {
        "colab": {
          "base_uri": "https://localhost:8080/"
        },
        "id": "80166335",
        "outputId": "423f7d24-c0ec-44d0-911d-709ad40f0fb3"
      },
      "outputs": [
        {
          "output_type": "stream",
          "name": "stdout",
          "text": [
            "{'name': 'John', 'age': 25, 'country': 'USA'}\n"
          ]
        }
      ],
      "source": [
        "d={'name':'John','age':25}\n",
        "d['country']='USA'\n",
        "print(d)"
      ]
    },
    {
      "cell_type": "markdown",
      "id": "d2c2573d",
      "metadata": {
        "id": "d2c2573d"
      },
      "source": [
        "### 23) Access 'name' value"
      ]
    },
    {
      "cell_type": "code",
      "execution_count": 26,
      "id": "f57af3e7",
      "metadata": {
        "colab": {
          "base_uri": "https://localhost:8080/"
        },
        "id": "f57af3e7",
        "outputId": "b7e20ca7-da0e-4f69-8d9c-893a78485d60"
      },
      "outputs": [
        {
          "output_type": "stream",
          "name": "stdout",
          "text": [
            "Alice\n"
          ]
        }
      ],
      "source": [
        "d={'name':'Alice','age':30}\n",
        "print(d['name'])"
      ]
    },
    {
      "cell_type": "markdown",
      "id": "d59c3171",
      "metadata": {
        "id": "d59c3171"
      },
      "source": [
        "### 24) Remove 'age'"
      ]
    },
    {
      "cell_type": "code",
      "execution_count": 27,
      "id": "ec0a2bc8",
      "metadata": {
        "colab": {
          "base_uri": "https://localhost:8080/"
        },
        "id": "ec0a2bc8",
        "outputId": "e75a48a2-4668-445c-8848-2e1ff5808aee"
      },
      "outputs": [
        {
          "output_type": "stream",
          "name": "stdout",
          "text": [
            "{'name': 'Bob', 'city': 'NY'}\n"
          ]
        }
      ],
      "source": [
        "d={'name':'Bob','age':22,'city':'NY'}\n",
        "d.pop('age')\n",
        "print(d)"
      ]
    },
    {
      "cell_type": "markdown",
      "id": "46e3d35d",
      "metadata": {
        "id": "46e3d35d"
      },
      "source": [
        "### 25) Check if 'city' exists"
      ]
    },
    {
      "cell_type": "code",
      "execution_count": 28,
      "id": "ee7f548d",
      "metadata": {
        "colab": {
          "base_uri": "https://localhost:8080/"
        },
        "id": "ee7f548d",
        "outputId": "88fde49d-97c5-4dd7-f923-83f2ad756e2a"
      },
      "outputs": [
        {
          "output_type": "stream",
          "name": "stdout",
          "text": [
            "True\n"
          ]
        }
      ],
      "source": [
        "d={'name':'Alice','city':'Paris'}\n",
        "print('city' in d)"
      ]
    },
    {
      "cell_type": "markdown",
      "id": "3a861344",
      "metadata": {
        "id": "3a861344"
      },
      "source": [
        "### 26) Create list, tuple, dict"
      ]
    },
    {
      "cell_type": "code",
      "execution_count": 29,
      "id": "0516fbef",
      "metadata": {
        "colab": {
          "base_uri": "https://localhost:8080/"
        },
        "id": "0516fbef",
        "outputId": "a6a880f4-d770-45af-89c1-fe6ba104bdd9"
      },
      "outputs": [
        {
          "output_type": "stream",
          "name": "stdout",
          "text": [
            "[1, 2, 3] (4, 5, 6) {'a': 1, 'b': 2}\n"
          ]
        }
      ],
      "source": [
        "lst=[1,2,3]; tpl=(4,5,6); d={'a':1,'b':2}\n",
        "print(lst,tpl,d)"
      ]
    },
    {
      "cell_type": "markdown",
      "id": "1d217d52",
      "metadata": {
        "id": "1d217d52"
      },
      "source": [
        "### 27) Random list sort"
      ]
    },
    {
      "cell_type": "code",
      "execution_count": 30,
      "id": "0eed2aad",
      "metadata": {
        "colab": {
          "base_uri": "https://localhost:8080/"
        },
        "id": "0eed2aad",
        "outputId": "cc19c40d-7307-4f77-8f95-53c8fb45675f"
      },
      "outputs": [
        {
          "output_type": "stream",
          "name": "stdout",
          "text": [
            "[2, 23, 36, 71, 89]\n"
          ]
        }
      ],
      "source": [
        "import random\n",
        "lst=random.sample(range(1,101),5)\n",
        "lst.sort()\n",
        "print(lst)"
      ]
    },
    {
      "cell_type": "markdown",
      "id": "6f2e4425",
      "metadata": {
        "id": "6f2e4425"
      },
      "source": [
        "### 28) List with strings, 3rd index"
      ]
    },
    {
      "cell_type": "code",
      "execution_count": 31,
      "id": "72568530",
      "metadata": {
        "colab": {
          "base_uri": "https://localhost:8080/"
        },
        "id": "72568530",
        "outputId": "4a62c405-3148-4d00-c525-0f6b064beeaa"
      },
      "outputs": [
        {
          "output_type": "stream",
          "name": "stdout",
          "text": [
            "d\n"
          ]
        }
      ],
      "source": [
        "lst=['a','b','c','d','e']\n",
        "print(lst[3])"
      ]
    },
    {
      "cell_type": "markdown",
      "id": "0825af26",
      "metadata": {
        "id": "0825af26"
      },
      "source": [
        "### 29) Combine two dicts"
      ]
    },
    {
      "cell_type": "code",
      "execution_count": 32,
      "id": "2020efed",
      "metadata": {
        "colab": {
          "base_uri": "https://localhost:8080/"
        },
        "id": "2020efed",
        "outputId": "667f40b8-8458-4167-86af-54217419c967"
      },
      "outputs": [
        {
          "output_type": "stream",
          "name": "stdout",
          "text": [
            "{'a': 1, 'b': 2, 'c': 3, 'd': 4}\n"
          ]
        }
      ],
      "source": [
        "d1={'a':1,'b':2}; d2={'c':3,'d':4}\n",
        "d1.update(d2)\n",
        "print(d1)"
      ]
    },
    {
      "cell_type": "markdown",
      "id": "bf22b6cc",
      "metadata": {
        "id": "bf22b6cc"
      },
      "source": [
        "### 30) Convert list of strings to set"
      ]
    },
    {
      "cell_type": "code",
      "execution_count": 33,
      "id": "091d236a",
      "metadata": {
        "colab": {
          "base_uri": "https://localhost:8080/"
        },
        "id": "091d236a",
        "outputId": "18d76d0f-491c-491a-88aa-4e478647f2b8"
      },
      "outputs": [
        {
          "output_type": "stream",
          "name": "stdout",
          "text": [
            "{'c', 'b', 'a'}\n"
          ]
        }
      ],
      "source": [
        "lst=['a','b','a','c']\n",
        "print(set(lst))"
      ]
    }
  ],
  "metadata": {
    "kernelspec": {
      "display_name": "Python 3 (ipykernel)",
      "language": "python",
      "name": "python3"
    },
    "language_info": {
      "codemirror_mode": {
        "name": "ipython",
        "version": 3
      },
      "file_extension": ".py",
      "mimetype": "text/x-python",
      "name": "python",
      "nbconvert_exporter": "python",
      "pygments_lexer": "ipython3",
      "version": "3.13.5"
    },
    "colab": {
      "provenance": []
    }
  },
  "nbformat": 4,
  "nbformat_minor": 5
}