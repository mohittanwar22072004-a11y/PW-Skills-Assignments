{
  "cells": [
    {
      "cell_type": "markdown",
      "id": "b13f7370",
      "metadata": {
        "id": "b13f7370"
      },
      "source": [
        "## Theoretical Questions (Python Basics)"
      ]
    },
    {
      "cell_type": "markdown",
      "id": "64fb3aa9",
      "metadata": {
        "id": "64fb3aa9"
      },
      "source": [
        "### 1) What is Python, and why is it popular?\n",
        "\n",
        "**Answer:** Python is a high-level, interpreted programming language known for its clean syntax and vast ecosystem of libraries.  \n",
        "**Why popular?**  \n",
        "- Readable, beginner-friendly syntax  \n",
        "- Large standard library and third‑party packages (data, web, ML, automation)  \n",
        "- Cross‑platform, open‑source, strong community  \n",
        "- Supports multiple paradigms: procedural, object‑oriented, functional"
      ]
    },
    {
      "cell_type": "markdown",
      "id": "5993a161",
      "metadata": {
        "id": "5993a161"
      },
      "source": [
        "### 2) What is an interpreter in Python?\n",
        "\n",
        "**Answer:** The interpreter reads Python source code and executes it directly, translating it into machine-understandable actions at runtime (as opposed to compiling ahead of time into a separate binary). CPython is the default reference interpreter."
      ]
    },
    {
      "cell_type": "markdown",
      "id": "91da424c",
      "metadata": {
        "id": "91da424c"
      },
      "source": [
        "### 3) What are pre-defined keywords in Python?\n",
        "\n",
        "**Answer:** Keywords are reserved words that have special meaning in Python syntax (e.g., `if`, `for`, `True`, `None`) and cannot be used as identifiers (variable/function names)."
      ]
    },
    {
      "cell_type": "markdown",
      "id": "aa6d9c1e",
      "metadata": {
        "id": "aa6d9c1e"
      },
      "source": [
        "### 4) Can keywords be used as variable names?\n",
        "\n",
        "**Answer:** No. Keywords are reserved by the language. Attempting to use one as a variable name causes a `SyntaxError`."
      ]
    },
    {
      "cell_type": "markdown",
      "id": "4b553904",
      "metadata": {
        "id": "4b553904"
      },
      "source": [
        "### 5) What is mutability in Python?\n",
        "\n",
        "**Answer:** Mutability is whether an object’s value can change **in place**. Mutable objects (e.g., `list`, `dict`, `set`) can be modified after creation; immutable objects (e.g., `int`, `float`, `str`, `tuple`) cannot."
      ]
    },
    {
      "cell_type": "markdown",
      "id": "e2edabfe",
      "metadata": {
        "id": "e2edabfe"
      },
      "source": [
        "### 6) Why are lists mutable, but tuples are immutable?\n",
        "\n",
        "**Answer:** By design: `list` is intended for dynamic collections where elements may be added/removed/changed. `tuple` provides a fixed-size, hashable (when elements are immutable) sequence useful for constants, dictionary keys, or protecting data from modification."
      ]
    },
    {
      "cell_type": "markdown",
      "id": "addf89d6",
      "metadata": {
        "id": "addf89d6"
      },
      "source": [
        "### 7) What is the difference between `==` and `is` operators in Python?\n",
        "\n",
        "**Answer:** `==` checks **value equality** (do two objects have equal content?). `is` checks **identity** (are they the exact same object in memory?).  \n",
        "Example: two separate lists with equal elements are `==` but not `is`."
      ]
    },
    {
      "cell_type": "markdown",
      "id": "1335c852",
      "metadata": {
        "id": "1335c852"
      },
      "source": [
        "### 8) What are logical operators in Python?\n",
        "\n",
        "**Answer:** `and`, `or`, `not`. They perform boolean logic and use short-circuit evaluation:  \n",
        "- `A and B` → evaluates `B` only if `A` is truthy  \n",
        "- `A or B` → evaluates `B` only if `A` is falsy  \n",
        "- `not A` → boolean negation of `A`"
      ]
    },
    {
      "cell_type": "markdown",
      "id": "853baeef",
      "metadata": {
        "id": "853baeef"
      },
      "source": [
        "### 9) What is type casting in Python?\n",
        "\n",
        "**Answer:** Converting a value from one data type to another, such as `int('10')`, `float('3.14')`, `bool(0)`, or `str(123)`."
      ]
    },
    {
      "cell_type": "markdown",
      "id": "0bd1ba8e",
      "metadata": {
        "id": "0bd1ba8e"
      },
      "source": [
        "### 10) What is the difference between implicit and explicit type casting?\n",
        "\n",
        "**Answer:** **Implicit** casting happens automatically (e.g., `int + float → float`). **Explicit** casting is done intentionally by the programmer using constructors like `int()`, `float()`, `str()`, `bool()`."
      ]
    },
    {
      "cell_type": "markdown",
      "id": "b4c10c92",
      "metadata": {
        "id": "b4c10c92"
      },
      "source": [
        "### 11) What is the purpose of conditional statements in Python?\n",
        "\n",
        "**Answer:** Conditionals (`if`/`elif`/`else`) allow branching logic—executing different code paths based on whether conditions evaluate to true or false."
      ]
    },
    {
      "cell_type": "markdown",
      "id": "98288d07",
      "metadata": {
        "id": "98288d07"
      },
      "source": [
        "### 12) How does the `elif` statement work?\n",
        "\n",
        "**Answer:** `elif` is “else if”. It’s evaluated only if all previous conditions were false. The first `if`/`elif` whose condition is true runs; remaining branches are skipped."
      ]
    },
    {
      "cell_type": "markdown",
      "id": "7d7d13ab",
      "metadata": {
        "id": "7d7d13ab"
      },
      "source": [
        "### 13) What is the difference between `for` and `while` loops?\n",
        "\n",
        "**Answer:**  \n",
        "- `for`: iterate over a known sequence/iterator for a fixed number of steps.  \n",
        "- `while`: repeat as long as a condition remains true—useful when the number of iterations isn’t predetermined."
      ]
    },
    {
      "cell_type": "markdown",
      "id": "ea1aa25c",
      "metadata": {
        "id": "ea1aa25c"
      },
      "source": [
        "### 14) Describe a scenario where a `while` loop is more suitable than a `for` loop.\n",
        "\n",
        "**Answer:** Reading user input until they type `quit`, retrying network requests until success, or looping until a sensor value crosses a threshold—where the number of iterations is unknown beforehand."
      ]
    }
  ],
  "metadata": {
    "kernelspec": {
      "display_name": "Python 3 (ipykernel)",
      "language": "python",
      "name": "python3"
    },
    "language_info": {
      "codemirror_mode": {
        "name": "ipython",
        "version": 3
      },
      "file_extension": ".py",
      "mimetype": "text/x-python",
      "name": "python",
      "nbconvert_exporter": "python",
      "pygments_lexer": "ipython3",
      "version": "3.13.5"
    },
    "colab": {
      "provenance": []
    }
  },
  "nbformat": 4,
  "nbformat_minor": 5
}