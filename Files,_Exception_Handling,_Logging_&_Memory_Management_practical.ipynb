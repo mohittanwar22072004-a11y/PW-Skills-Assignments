{
  "cells": [
    {
      "cell_type": "markdown",
      "id": "0625043a",
      "metadata": {
        "id": "0625043a"
      },
      "source": [
        "# Practical Questions"
      ]
    },
    {
      "cell_type": "markdown",
      "id": "f66857d0",
      "metadata": {
        "id": "f66857d0"
      },
      "source": [
        "### 1) Open file for writing"
      ]
    },
    {
      "cell_type": "code",
      "execution_count": 1,
      "id": "47563a81",
      "metadata": {
        "id": "47563a81"
      },
      "outputs": [],
      "source": [
        "with open('test.txt','w') as f:\n",
        "    f.write('Hello, PW Skills!')"
      ]
    },
    {
      "cell_type": "markdown",
      "id": "f3dc0ec5",
      "metadata": {
        "id": "f3dc0ec5"
      },
      "source": [
        "### 2) Read file and print lines"
      ]
    },
    {
      "cell_type": "code",
      "execution_count": 2,
      "id": "f47e6e26",
      "metadata": {
        "colab": {
          "base_uri": "https://localhost:8080/"
        },
        "id": "f47e6e26",
        "outputId": "0ba3f7d5-b62c-4fc0-e55a-9a57bb415795"
      },
      "outputs": [
        {
          "output_type": "stream",
          "name": "stdout",
          "text": [
            "Hello, PW Skills!\n"
          ]
        }
      ],
      "source": [
        "with open('test.txt','r') as f:\n",
        "    for line in f:\n",
        "        print(line.strip())"
      ]
    },
    {
      "cell_type": "markdown",
      "id": "94ac7f09",
      "metadata": {
        "id": "94ac7f09"
      },
      "source": [
        "### 3) Handle file not exist"
      ]
    },
    {
      "cell_type": "code",
      "execution_count": 3,
      "id": "c8ec9413",
      "metadata": {
        "colab": {
          "base_uri": "https://localhost:8080/"
        },
        "id": "c8ec9413",
        "outputId": "ae961412-afb1-47c7-eb51-df88310cf2d3"
      },
      "outputs": [
        {
          "output_type": "stream",
          "name": "stdout",
          "text": [
            "File does not exist\n"
          ]
        }
      ],
      "source": [
        "try:\n",
        "    with open('nofile.txt','r') as f: print(f.read())\n",
        "except FileNotFoundError:\n",
        "    print('File does not exist')"
      ]
    },
    {
      "cell_type": "markdown",
      "id": "0c728b1b",
      "metadata": {
        "id": "0c728b1b"
      },
      "source": [
        "### 4) Copy file content"
      ]
    },
    {
      "cell_type": "code",
      "execution_count": 4,
      "id": "5f6076c0",
      "metadata": {
        "id": "5f6076c0"
      },
      "outputs": [],
      "source": [
        "with open('test.txt','r') as src, open('copy.txt','w') as dst:\n",
        "    for line in src: dst.write(line)"
      ]
    },
    {
      "cell_type": "markdown",
      "id": "a10797b7",
      "metadata": {
        "id": "a10797b7"
      },
      "source": [
        "### 5) Handle division by zero"
      ]
    },
    {
      "cell_type": "code",
      "execution_count": 5,
      "id": "a9a47dc6",
      "metadata": {
        "colab": {
          "base_uri": "https://localhost:8080/"
        },
        "id": "a9a47dc6",
        "outputId": "d0426e0d-455f-4563-927f-c69cdc6606e2"
      },
      "outputs": [
        {
          "output_type": "stream",
          "name": "stdout",
          "text": [
            "Division by zero!\n"
          ]
        }
      ],
      "source": [
        "try:\n",
        "    a=10/0\n",
        "except ZeroDivisionError:\n",
        "    print('Division by zero!')"
      ]
    },
    {
      "cell_type": "markdown",
      "id": "4acdd996",
      "metadata": {
        "id": "4acdd996"
      },
      "source": [
        "### 6) Log error on zero division"
      ]
    },
    {
      "cell_type": "code",
      "execution_count": 6,
      "id": "2c5e80a4",
      "metadata": {
        "colab": {
          "base_uri": "https://localhost:8080/"
        },
        "id": "2c5e80a4",
        "outputId": "99740506-f081-4a06-b167-5f106c9ed793"
      },
      "outputs": [
        {
          "output_type": "stream",
          "name": "stderr",
          "text": [
            "ERROR:root:Division error: division by zero\n"
          ]
        }
      ],
      "source": [
        "import logging\n",
        "logging.basicConfig(filename='errors.log',level=logging.ERROR)\n",
        "try:\n",
        "    a=10/0\n",
        "except ZeroDivisionError as e:\n",
        "    logging.error('Division error: %s',e)"
      ]
    },
    {
      "cell_type": "markdown",
      "id": "f083bf3c",
      "metadata": {
        "id": "f083bf3c"
      },
      "source": [
        "### 7) Log at different levels"
      ]
    },
    {
      "cell_type": "code",
      "execution_count": 7,
      "id": "daa2fa48",
      "metadata": {
        "colab": {
          "base_uri": "https://localhost:8080/"
        },
        "id": "daa2fa48",
        "outputId": "e556c925-263a-45bd-8494-5f899df95fea"
      },
      "outputs": [
        {
          "output_type": "stream",
          "name": "stderr",
          "text": [
            "WARNING:root:Warning msg\n",
            "ERROR:root:Error msg\n"
          ]
        }
      ],
      "source": [
        "import logging\n",
        "logging.basicConfig(level=logging.DEBUG)\n",
        "logging.info('Info msg')\n",
        "logging.warning('Warning msg')\n",
        "logging.error('Error msg')"
      ]
    },
    {
      "cell_type": "markdown",
      "id": "cb4e1da3",
      "metadata": {
        "id": "cb4e1da3"
      },
      "source": [
        "### 8) Handle file opening error"
      ]
    },
    {
      "cell_type": "code",
      "execution_count": 8,
      "id": "0df25709",
      "metadata": {
        "colab": {
          "base_uri": "https://localhost:8080/"
        },
        "id": "0df25709",
        "outputId": "43e10f51-455b-423b-db1b-3acaed8b7998"
      },
      "outputs": [
        {
          "output_type": "stream",
          "name": "stdout",
          "text": [
            "Error opening file\n"
          ]
        }
      ],
      "source": [
        "try:\n",
        "    f=open('nofile.txt')\n",
        "except IOError:\n",
        "    print('Error opening file')"
      ]
    },
    {
      "cell_type": "markdown",
      "id": "28c94316",
      "metadata": {
        "id": "28c94316"
      },
      "source": [
        "### 9) Read file to list"
      ]
    },
    {
      "cell_type": "code",
      "execution_count": 9,
      "id": "8ca51677",
      "metadata": {
        "colab": {
          "base_uri": "https://localhost:8080/"
        },
        "id": "8ca51677",
        "outputId": "1026009a-468c-43c3-f524-b83581184590"
      },
      "outputs": [
        {
          "output_type": "stream",
          "name": "stdout",
          "text": [
            "['Hello, PW Skills!']\n"
          ]
        }
      ],
      "source": [
        "with open('test.txt') as f:\n",
        "    lines=[line.strip() for line in f]\n",
        "print(lines)"
      ]
    },
    {
      "cell_type": "markdown",
      "id": "a5dff956",
      "metadata": {
        "id": "a5dff956"
      },
      "source": [
        "### 10) Append to file"
      ]
    },
    {
      "cell_type": "code",
      "execution_count": 10,
      "id": "6beff8bc",
      "metadata": {
        "id": "6beff8bc"
      },
      "outputs": [],
      "source": [
        "with open('test.txt','a') as f:\n",
        "    f.write('\\nAppended line')"
      ]
    },
    {
      "cell_type": "markdown",
      "id": "ee9f85ce",
      "metadata": {
        "id": "ee9f85ce"
      },
      "source": [
        "### 11) Handle dict key error"
      ]
    },
    {
      "cell_type": "code",
      "execution_count": 11,
      "id": "39572c31",
      "metadata": {
        "colab": {
          "base_uri": "https://localhost:8080/"
        },
        "id": "39572c31",
        "outputId": "85beccb4-9fb5-4b72-fbb1-4e710ccb4ede"
      },
      "outputs": [
        {
          "output_type": "stream",
          "name": "stdout",
          "text": [
            "Key not found\n"
          ]
        }
      ],
      "source": [
        "d={'a':1}\n",
        "try:\n",
        "    print(d['b'])\n",
        "except KeyError:\n",
        "    print('Key not found')"
      ]
    },
    {
      "cell_type": "markdown",
      "id": "0611f1f2",
      "metadata": {
        "id": "0611f1f2"
      },
      "source": [
        "### 12) Multiple excepts"
      ]
    },
    {
      "cell_type": "code",
      "execution_count": 12,
      "id": "b4e3ffee",
      "metadata": {
        "colab": {
          "base_uri": "https://localhost:8080/"
        },
        "id": "b4e3ffee",
        "outputId": "7f6fe42f-fd20-4467-e75e-5974632f4621"
      },
      "outputs": [
        {
          "output_type": "stream",
          "name": "stdout",
          "text": [
            "Zero division\n"
          ]
        }
      ],
      "source": [
        "try:\n",
        "    a=10/0\n",
        "except ZeroDivisionError:\n",
        "    print('Zero division')\n",
        "except Exception as e:\n",
        "    print('Other error:',e)"
      ]
    },
    {
      "cell_type": "markdown",
      "id": "7548c3e6",
      "metadata": {
        "id": "7548c3e6"
      },
      "source": [
        "### 13) Check file exists"
      ]
    },
    {
      "cell_type": "code",
      "execution_count": 13,
      "id": "8d02b4bb",
      "metadata": {
        "colab": {
          "base_uri": "https://localhost:8080/"
        },
        "id": "8d02b4bb",
        "outputId": "d9bcf77f-faa4-4b91-f54b-a349d09ba887"
      },
      "outputs": [
        {
          "output_type": "stream",
          "name": "stdout",
          "text": [
            "File exists\n"
          ]
        }
      ],
      "source": [
        "import os\n",
        "if os.path.exists('test.txt'):\n",
        "    print('File exists')\n",
        "else:\n",
        "    print('Not found')"
      ]
    },
    {
      "cell_type": "markdown",
      "id": "bbc928ba",
      "metadata": {
        "id": "bbc928ba"
      },
      "source": [
        "### 14) Logging info and error"
      ]
    },
    {
      "cell_type": "code",
      "execution_count": 14,
      "id": "c13aad8c",
      "metadata": {
        "colab": {
          "base_uri": "https://localhost:8080/"
        },
        "id": "c13aad8c",
        "outputId": "4fcf7ccf-c9e8-4c3f-c414-793ddf537b7c"
      },
      "outputs": [
        {
          "output_type": "stream",
          "name": "stderr",
          "text": [
            "ERROR:root:Error message\n"
          ]
        }
      ],
      "source": [
        "import logging\n",
        "logging.basicConfig(filename='log.txt',level=logging.INFO)\n",
        "logging.info('Info message')\n",
        "logging.error('Error message')"
      ]
    },
    {
      "cell_type": "markdown",
      "id": "7abdf43b",
      "metadata": {
        "id": "7abdf43b"
      },
      "source": [
        "### 15) Print file or handle empty"
      ]
    },
    {
      "cell_type": "code",
      "execution_count": 15,
      "id": "cac72de0",
      "metadata": {
        "colab": {
          "base_uri": "https://localhost:8080/"
        },
        "id": "cac72de0",
        "outputId": "3a20455e-b9ab-4db1-df61-b78feedfa39d"
      },
      "outputs": [
        {
          "output_type": "stream",
          "name": "stdout",
          "text": [
            "Hello, PW Skills!\n",
            "Appended line\n"
          ]
        }
      ],
      "source": [
        "with open('test.txt') as f:\n",
        "    data=f.read()\n",
        "    if data:\n",
        "        print(data)\n",
        "    else:\n",
        "        print('File is empty')"
      ]
    },
    {
      "cell_type": "markdown",
      "id": "5b4137b5",
      "metadata": {
        "id": "5b4137b5"
      },
      "source": [
        "### 16) Memory profiling demo"
      ]
    },
    {
      "cell_type": "code",
      "execution_count": 16,
      "id": "a0df525e",
      "metadata": {
        "colab": {
          "base_uri": "https://localhost:8080/"
        },
        "id": "a0df525e",
        "outputId": "328b5a94-718c-4257-fa40-20554cd3ab1e"
      },
      "outputs": [
        {
          "output_type": "stream",
          "name": "stdout",
          "text": [
            "Memory profiling example placeholder\n"
          ]
        }
      ],
      "source": [
        "# Requires memory_profiler package\n",
        "print('Memory profiling example placeholder')"
      ]
    },
    {
      "cell_type": "markdown",
      "id": "d60a2b90",
      "metadata": {
        "id": "d60a2b90"
      },
      "source": [
        "### 17) Write numbers to file"
      ]
    },
    {
      "cell_type": "code",
      "execution_count": 17,
      "id": "880042d1",
      "metadata": {
        "id": "880042d1"
      },
      "outputs": [],
      "source": [
        "with open('numbers.txt','w') as f:\n",
        "    for i in range(1,6): f.write(str(i)+'\\n')"
      ]
    },
    {
      "cell_type": "markdown",
      "id": "8fed2856",
      "metadata": {
        "id": "8fed2856"
      },
      "source": [
        "### 18) Rotating log setup"
      ]
    },
    {
      "cell_type": "code",
      "execution_count": 18,
      "id": "d303157d",
      "metadata": {
        "id": "d303157d"
      },
      "outputs": [],
      "source": [
        "import logging.handlers\n",
        "handler=logging.handlers.RotatingFileHandler('rotate.log',maxBytes=1000000,backupCount=3)\n",
        "logging.basicConfig(handlers=[handler],level=logging.INFO)\n",
        "logging.info('Rotating log entry')"
      ]
    },
    {
      "cell_type": "markdown",
      "id": "a2e4ccf1",
      "metadata": {
        "id": "a2e4ccf1"
      },
      "source": [
        "### 19) Handle IndexError & KeyError"
      ]
    },
    {
      "cell_type": "code",
      "execution_count": 19,
      "id": "7518c9c1",
      "metadata": {
        "colab": {
          "base_uri": "https://localhost:8080/"
        },
        "id": "7518c9c1",
        "outputId": "3477ccf6-7e70-4ef4-fe04-648cd5c0f004"
      },
      "outputs": [
        {
          "output_type": "stream",
          "name": "stdout",
          "text": [
            "Index error\n"
          ]
        }
      ],
      "source": [
        "try:\n",
        "    lst=[1,2]\n",
        "    print(lst[5])\n",
        "    d={'a':1}\n",
        "    print(d['b'])\n",
        "except IndexError:\n",
        "    print('Index error')\n",
        "except KeyError:\n",
        "    print('Key error')"
      ]
    },
    {
      "cell_type": "markdown",
      "id": "0758773a",
      "metadata": {
        "id": "0758773a"
      },
      "source": [
        "### 20) Context manager to read file"
      ]
    },
    {
      "cell_type": "code",
      "execution_count": 20,
      "id": "b0d7b90b",
      "metadata": {
        "colab": {
          "base_uri": "https://localhost:8080/"
        },
        "id": "b0d7b90b",
        "outputId": "e2056bb8-f0cc-43f8-cb2f-3014cfc40a29"
      },
      "outputs": [
        {
          "output_type": "stream",
          "name": "stdout",
          "text": [
            "Hello, PW Skills!\n",
            "Appended line\n"
          ]
        }
      ],
      "source": [
        "with open('test.txt') as f:\n",
        "    print(f.read())"
      ]
    },
    {
      "cell_type": "markdown",
      "id": "539b0f96",
      "metadata": {
        "id": "539b0f96"
      },
      "source": [
        "### 21) Count word occurrences"
      ]
    },
    {
      "cell_type": "code",
      "execution_count": 21,
      "id": "fbf4f860",
      "metadata": {
        "colab": {
          "base_uri": "https://localhost:8080/"
        },
        "id": "fbf4f860",
        "outputId": "afe09e06-556c-4979-8315-c3557554a952"
      },
      "outputs": [
        {
          "output_type": "stream",
          "name": "stdout",
          "text": [
            "1\n"
          ]
        }
      ],
      "source": [
        "word='Hello'\n",
        "count=0\n",
        "with open('test.txt') as f:\n",
        "    for line in f:\n",
        "        count+=line.count(word)\n",
        "print(count)"
      ]
    },
    {
      "cell_type": "markdown",
      "id": "810ee598",
      "metadata": {
        "id": "810ee598"
      },
      "source": [
        "### 22) Check empty file"
      ]
    },
    {
      "cell_type": "code",
      "execution_count": 22,
      "id": "73238f1b",
      "metadata": {
        "colab": {
          "base_uri": "https://localhost:8080/"
        },
        "id": "73238f1b",
        "outputId": "29ee3e8f-70cd-47f2-f87e-1dd53f853226"
      },
      "outputs": [
        {
          "output_type": "stream",
          "name": "stdout",
          "text": [
            "Not empty\n"
          ]
        }
      ],
      "source": [
        "import os\n",
        "if os.path.getsize('test.txt')==0:\n",
        "    print('Empty')\n",
        "else:\n",
        "    print('Not empty')"
      ]
    },
    {
      "cell_type": "markdown",
      "id": "0d60670b",
      "metadata": {
        "id": "0d60670b"
      },
      "source": [
        "### 23) Log error on file handling"
      ]
    },
    {
      "cell_type": "code",
      "execution_count": 23,
      "id": "e555e2dd",
      "metadata": {
        "colab": {
          "base_uri": "https://localhost:8080/"
        },
        "id": "e555e2dd",
        "outputId": "20d001c3-eaa8-43b9-fe91-f647b2e6360d"
      },
      "outputs": [
        {
          "output_type": "stream",
          "name": "stderr",
          "text": [
            "ERROR:root:File error: [Errno 2] No such file or directory: 'nofile.txt'\n"
          ]
        }
      ],
      "source": [
        "import logging\n",
        "logging.basicConfig(filename='file_error.log',level=logging.ERROR)\n",
        "try:\n",
        "    with open('nofile.txt') as f: pass\n",
        "except Exception as e:\n",
        "    logging.error('File error: %s',e)"
      ]
    }
  ],
  "metadata": {
    "colab": {
      "provenance": []
    },
    "language_info": {
      "name": "python"
    },
    "kernelspec": {
      "name": "python3",
      "display_name": "Python 3"
    }
  },
  "nbformat": 4,
  "nbformat_minor": 5
}