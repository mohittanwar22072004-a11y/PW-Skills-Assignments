{
  "cells": [
    {
      "cell_type": "markdown",
      "id": "d38904ad",
      "metadata": {
        "id": "d38904ad"
      },
      "source": [
        "---\n",
        "\n",
        "## Practical Questions (Python Basics) (Code)\n"
      ]
    },
    {
      "cell_type": "markdown",
      "id": "0d977b3e",
      "metadata": {
        "id": "0d977b3e"
      },
      "source": [
        "### 1) Print `\"Hello, World!\"`"
      ]
    },
    {
      "cell_type": "code",
      "execution_count": 2,
      "id": "3a55f350",
      "metadata": {
        "colab": {
          "base_uri": "https://localhost:8080/"
        },
        "id": "3a55f350",
        "outputId": "7ffef6cb-c240-4306-97d0-61a0c58c1b18"
      },
      "outputs": [
        {
          "output_type": "stream",
          "name": "stdout",
          "text": [
            "Hello, World!\n"
          ]
        }
      ],
      "source": [
        "print(\"Hello, World!\")"
      ]
    },
    {
      "cell_type": "markdown",
      "id": "bd24447f",
      "metadata": {
        "id": "bd24447f"
      },
      "source": [
        "### 2) Display your name and age"
      ]
    },
    {
      "cell_type": "code",
      "execution_count": 1,
      "id": "b9447f20",
      "metadata": {
        "colab": {
          "base_uri": "https://localhost:8080/"
        },
        "id": "b9447f20",
        "outputId": "998e4c71-de0e-42f0-ec39-339683d147a4"
      },
      "outputs": [
        {
          "output_type": "stream",
          "name": "stdout",
          "text": [
            "My name is Mohit and I am 22 years old.\n"
          ]
        }
      ],
      "source": [
        "# Example (no input required)\n",
        "name = \"Mohit\"  # change as needed\n",
        "age = 22        # change as needed\n",
        "print(f\"My name is {name} and I am {age} years old.\")\n",
        "\n",
        "# If input is required, uncomment below:\n",
        "# name = input(\"Enter your name: \")\n",
        "# age = int(input(\"Enter your age: \"))\n",
        "# print(f\"My name is {name} and I am {age} years old.\")\n"
      ]
    },
    {
      "cell_type": "markdown",
      "id": "2b661ca5",
      "metadata": {
        "id": "2b661ca5"
      },
      "source": [
        "### 3) Print all pre-defined keywords in Python"
      ]
    },
    {
      "cell_type": "code",
      "execution_count": 3,
      "id": "5020f64a",
      "metadata": {
        "colab": {
          "base_uri": "https://localhost:8080/"
        },
        "id": "5020f64a",
        "outputId": "b2278d00-61b2-46ae-b54f-ef41f8785233"
      },
      "outputs": [
        {
          "output_type": "stream",
          "name": "stdout",
          "text": [
            "Total keywords: 35\n",
            "['False', 'None', 'True', 'and', 'as', 'assert', 'async', 'await', 'break', 'class', 'continue', 'def', 'del', 'elif', 'else', 'except', 'finally', 'for', 'from', 'global', 'if', 'import', 'in', 'is', 'lambda', 'nonlocal', 'not', 'or', 'pass', 'raise', 'return', 'try', 'while', 'with', 'yield']\n"
          ]
        }
      ],
      "source": [
        "import keyword\n",
        "print(\"Total keywords:\", len(keyword.kwlist))\n",
        "print(keyword.kwlist)"
      ]
    },
    {
      "cell_type": "markdown",
      "id": "c6ae8b6c",
      "metadata": {
        "id": "c6ae8b6c"
      },
      "source": [
        "### 4) Check if a given word is a Python keyword"
      ]
    },
    {
      "cell_type": "code",
      "execution_count": 4,
      "id": "8a84fead",
      "metadata": {
        "colab": {
          "base_uri": "https://localhost:8080/"
        },
        "id": "8a84fead",
        "outputId": "5df85698-76cc-4a0f-dee8-4331c31faa01"
      },
      "outputs": [
        {
          "output_type": "stream",
          "name": "stdout",
          "text": [
            "'for' is a keyword? True\n"
          ]
        }
      ],
      "source": [
        "import keyword\n",
        "\n",
        "# Example run\n",
        "word = \"for\"  # change to test different words\n",
        "print(f\"{word!r} is a keyword?\", keyword.iskeyword(word))\n",
        "\n",
        "# Input-based version (uncomment to use):\n",
        "# word = input(\"Enter a word: \").strip()\n",
        "# print(f\"{word!r} is a keyword?\", keyword.iskeyword(word))\n"
      ]
    },
    {
      "cell_type": "markdown",
      "id": "6ab9bee8",
      "metadata": {
        "id": "6ab9bee8"
      },
      "source": [
        "### 5) Create a list and tuple; try changing an element in each"
      ]
    },
    {
      "cell_type": "code",
      "execution_count": 5,
      "id": "761f0012",
      "metadata": {
        "colab": {
          "base_uri": "https://localhost:8080/"
        },
        "id": "761f0012",
        "outputId": "e13fd56c-7777-4f7e-916b-3ff655fae80a"
      },
      "outputs": [
        {
          "output_type": "stream",
          "name": "stdout",
          "text": [
            "Modified list: [1, 99, 3]\n",
            "Original tuple: (1, 2, 3)\n",
            "Attempt to modify tuple failed: 'tuple' object does not support item assignment\n"
          ]
        }
      ],
      "source": [
        "# List is mutable\n",
        "lst = [1, 2, 3]\n",
        "lst[1] = 99\n",
        "print(\"Modified list:\", lst)\n",
        "\n",
        "# Tuple is immutable — trying to assign raises a TypeError\n",
        "tpl = (1, 2, 3)\n",
        "print(\"Original tuple:\", tpl)\n",
        "try:\n",
        "    tpl[1] = 99\n",
        "except TypeError as e:\n",
        "    print(\"Attempt to modify tuple failed:\", e)\n"
      ]
    },
    {
      "cell_type": "markdown",
      "id": "2bf5ae57",
      "metadata": {
        "id": "2bf5ae57"
      },
      "source": [
        "### 6) Function to demonstrate behavior of mutable vs. immutable arguments"
      ]
    },
    {
      "cell_type": "code",
      "execution_count": 6,
      "id": "cdd828ae",
      "metadata": {
        "colab": {
          "base_uri": "https://localhost:8080/"
        },
        "id": "cdd828ae",
        "outputId": "bc9ccb3b-0222-4f99-e5e7-6c921aab7544"
      },
      "outputs": [
        {
          "output_type": "stream",
          "name": "stdout",
          "text": [
            "Before -> num: 10 | items: [1, 2, 3]\n",
            "Inside function -> x: 11 | a_list: [1, 2, 3, 99]\n",
            "After  -> num: 10 | items: [1, 2, 3, 99]\n"
          ]
        }
      ],
      "source": [
        "def touch_values(x, a_list):\n",
        "    # try to modify both\n",
        "    x += 1              # integers are immutable; this rebinds local x\n",
        "    a_list.append(99)   # lists are mutable; this mutates the original list\n",
        "    print(\"Inside function -> x:\", x, \"| a_list:\", a_list)\n",
        "\n",
        "num = 10\n",
        "items = [1, 2, 3]\n",
        "print(\"Before -> num:\", num, \"| items:\", items)\n",
        "touch_values(num, items)\n",
        "print(\"After  -> num:\", num, \"| items:\", items)\n"
      ]
    },
    {
      "cell_type": "markdown",
      "id": "80df5dc0",
      "metadata": {
        "id": "80df5dc0"
      },
      "source": [
        "### 7) Basic arithmetic operations on two numbers"
      ]
    },
    {
      "cell_type": "code",
      "execution_count": 7,
      "id": "14c3ca60",
      "metadata": {
        "colab": {
          "base_uri": "https://localhost:8080/"
        },
        "id": "14c3ca60",
        "outputId": "c69c22e0-521d-4d39-c349-f7c8731b3099"
      },
      "outputs": [
        {
          "output_type": "stream",
          "name": "stdout",
          "text": [
            "a + b = 17\n",
            "a - b = 7\n",
            "a * b = 60\n",
            "a / b = 2.4\n",
            "a // b = 2\n",
            "a % b = 2\n",
            "a ** b = 248832\n"
          ]
        }
      ],
      "source": [
        "# Example (no input required)\n",
        "a, b = 12, 5\n",
        "\n",
        "print(\"a + b =\", a + b)\n",
        "print(\"a - b =\", a - b)\n",
        "print(\"a * b =\", a * b)\n",
        "print(\"a / b =\", a / b)     # float division\n",
        "print(\"a // b =\", a // b)   # floor division\n",
        "print(\"a % b =\", a % b)     # modulus\n",
        "print(\"a ** b =\", a ** b)   # exponentiation\n",
        "\n",
        "# Input-based version (uncomment to use):\n",
        "# a = float(input(\"Enter first number: \"))\n",
        "# b = float(input(\"Enter second number: \"))\n",
        "# print(\"a + b =\", a + b)\n",
        "# print(\"a - b =\", a - b)\n",
        "# print(\"a * b =\", a * b)\n",
        "# print(\"a / b =\", a / b)\n",
        "# print(\"a // b =\", a // b)\n",
        "# print(\"a % b =\", a % b)\n",
        "# print(\"a ** b =\", a ** b)\n"
      ]
    },
    {
      "cell_type": "markdown",
      "id": "869a77fc",
      "metadata": {
        "id": "869a77fc"
      },
      "source": [
        "### 8) Demonstrate the use of logical operators"
      ]
    },
    {
      "cell_type": "code",
      "execution_count": 8,
      "id": "b52302b3",
      "metadata": {
        "colab": {
          "base_uri": "https://localhost:8080/"
        },
        "id": "b52302b3",
        "outputId": "a2bc5ac2-5cde-4524-f159-bac832732068"
      },
      "outputs": [
        {
          "output_type": "stream",
          "name": "stdout",
          "text": [
            "A and B -> False\n",
            "A or B  -> True\n",
            "not A   -> False\n"
          ]
        }
      ],
      "source": [
        "A = True\n",
        "B = False\n",
        "print(\"A and B ->\", A and B)\n",
        "print(\"A or B  ->\", A or B)\n",
        "print(\"not A   ->\", not A)"
      ]
    },
    {
      "cell_type": "markdown",
      "id": "5fc51e85",
      "metadata": {
        "id": "5fc51e85"
      },
      "source": [
        "### 9) Convert user input from string to int, float, and boolean"
      ]
    },
    {
      "cell_type": "code",
      "execution_count": 9,
      "id": "2532e039",
      "metadata": {
        "colab": {
          "base_uri": "https://localhost:8080/"
        },
        "id": "2532e039",
        "outputId": "15a68ec4-55ef-4559-dd50-b54b05965e83"
      },
      "outputs": [
        {
          "output_type": "stream",
          "name": "stdout",
          "text": [
            "10 -> int: 10 | float: 10.0 | bool: True\n"
          ]
        }
      ],
      "source": [
        "# Example with a predefined string:\n",
        "s = \"10\"\n",
        "as_int = int(s)\n",
        "as_float = float(s)\n",
        "as_bool = bool(int(s))  # non-zero -> True; or use bool(s) which is True for non-empty strings\n",
        "print(s, \"-> int:\", as_int, \"| float:\", as_float, \"| bool:\", as_bool)\n",
        "\n",
        "# Input-based version (uncomment to use):\n",
        "# s = input(\"Enter a value: \")\n",
        "# print(\"As int:\", int(s))\n",
        "# print(\"As float:\", float(s))\n",
        "# print(\"As bool (non-empty string -> True):\", bool(s))\n"
      ]
    },
    {
      "cell_type": "markdown",
      "id": "56ff2280",
      "metadata": {
        "id": "56ff2280"
      },
      "source": [
        "### 10) Demonstrate type casting with list elements"
      ]
    },
    {
      "cell_type": "code",
      "execution_count": 10,
      "id": "a87a29fe",
      "metadata": {
        "colab": {
          "base_uri": "https://localhost:8080/"
        },
        "id": "a87a29fe",
        "outputId": "60b8c4d3-2901-4bff-b2f0-64a0c2ab7210"
      },
      "outputs": [
        {
          "output_type": "stream",
          "name": "stdout",
          "text": [
            "Original: ['1', '2', '3', '4']\n",
            "As int:  [1, 2, 3, 4]\n",
            "As float: [1.0, 2.0, 3.0, 4.0]\n"
          ]
        }
      ],
      "source": [
        "nums_as_str = [\"1\", \"2\", \"3\", \"4\"]\n",
        "nums_as_int = [int(x) for x in nums_as_str]\n",
        "nums_as_float = [float(x) for x in nums_as_str]\n",
        "print(\"Original:\", nums_as_str)\n",
        "print(\"As int: \", nums_as_int)\n",
        "print(\"As float:\", nums_as_float)"
      ]
    },
    {
      "cell_type": "markdown",
      "id": "23a448bc",
      "metadata": {
        "id": "23a448bc"
      },
      "source": [
        "### 11) Check if a number is positive, negative, or zero"
      ]
    },
    {
      "cell_type": "code",
      "execution_count": 11,
      "id": "2ff8ba3b",
      "metadata": {
        "colab": {
          "base_uri": "https://localhost:8080/"
        },
        "id": "2ff8ba3b",
        "outputId": "5af223ae-9b31-45d5-c505-3a3a97f46afd"
      },
      "outputs": [
        {
          "output_type": "stream",
          "name": "stdout",
          "text": [
            "Negative\n"
          ]
        }
      ],
      "source": [
        "# Example\n",
        "n = -5  # change to test\n",
        "if n > 0:\n",
        "    print(\"Positive\")\n",
        "elif n < 0:\n",
        "    print(\"Negative\")\n",
        "else:\n",
        "    print(\"Zero\")\n",
        "\n",
        "# Input-based version (uncomment to use):\n",
        "# n = float(input(\"Enter a number: \"))\n",
        "# if n > 0:\n",
        "#     print(\"Positive\")\n",
        "# elif n < 0:\n",
        "#     print(\"Negative\")\n",
        "# else:\n",
        "#     print(\"Zero\")\n"
      ]
    },
    {
      "cell_type": "markdown",
      "id": "9f041278",
      "metadata": {
        "id": "9f041278"
      },
      "source": [
        "### 12) For loop to print numbers from 1 to 10"
      ]
    },
    {
      "cell_type": "code",
      "execution_count": 12,
      "id": "d5d0c9c7",
      "metadata": {
        "colab": {
          "base_uri": "https://localhost:8080/"
        },
        "id": "d5d0c9c7",
        "outputId": "a4a671e1-9cab-434c-af27-c753231c866c"
      },
      "outputs": [
        {
          "output_type": "stream",
          "name": "stdout",
          "text": [
            "1\n",
            "2\n",
            "3\n",
            "4\n",
            "5\n",
            "6\n",
            "7\n",
            "8\n",
            "9\n",
            "10\n"
          ]
        }
      ],
      "source": [
        "for i in range(1, 11):\n",
        "    print(i)"
      ]
    },
    {
      "cell_type": "markdown",
      "id": "27e6672d",
      "metadata": {
        "id": "27e6672d"
      },
      "source": [
        "### 13) Sum of all even numbers between 1 and 50"
      ]
    },
    {
      "cell_type": "code",
      "execution_count": 13,
      "id": "09b2b804",
      "metadata": {
        "colab": {
          "base_uri": "https://localhost:8080/"
        },
        "id": "09b2b804",
        "outputId": "df1ef2a2-d2e6-4a2e-8a58-6a76501d17e0"
      },
      "outputs": [
        {
          "output_type": "stream",
          "name": "stdout",
          "text": [
            "Sum of even numbers from 1 to 50: 650\n"
          ]
        }
      ],
      "source": [
        "total = sum(i for i in range(1, 51) if i % 2 == 0)\n",
        "print(\"Sum of even numbers from 1 to 50:\", total)"
      ]
    },
    {
      "cell_type": "markdown",
      "id": "793918dc",
      "metadata": {
        "id": "793918dc"
      },
      "source": [
        "### 14) Reverse a string using a while loop"
      ]
    },
    {
      "cell_type": "code",
      "execution_count": 14,
      "id": "650af29c",
      "metadata": {
        "colab": {
          "base_uri": "https://localhost:8080/"
        },
        "id": "650af29c",
        "outputId": "bc2a6738-efe3-44f2-e569-6dbec27398bb"
      },
      "outputs": [
        {
          "output_type": "stream",
          "name": "stdout",
          "text": [
            "Original: PW Skills\n",
            "Reversed: sllikS WP\n"
          ]
        }
      ],
      "source": [
        "s = \"PW Skills\"  # change to test\n",
        "rev = \"\"\n",
        "i = len(s) - 1\n",
        "while i >= 0:\n",
        "    rev += s[i]\n",
        "    i -= 1\n",
        "print(\"Original:\", s)\n",
        "print(\"Reversed:\", rev)\n",
        "\n",
        "# Input-based version (uncomment to use):\n",
        "# s = input(\"Enter a string: \")\n",
        "# rev = \"\"\n",
        "# i = len(s) - 1\n",
        "# while i >= 0:\n",
        "#     rev += s[i]\n",
        "#     i -= 1\n",
        "# print(\"Reversed:\", rev)\n"
      ]
    },
    {
      "cell_type": "markdown",
      "id": "40a94a04",
      "metadata": {
        "id": "40a94a04"
      },
      "source": [
        "### 15) Factorial of a number using a while loop"
      ]
    },
    {
      "cell_type": "code",
      "execution_count": 15,
      "id": "a010f3e9",
      "metadata": {
        "colab": {
          "base_uri": "https://localhost:8080/"
        },
        "id": "a010f3e9",
        "outputId": "fddb4f13-1d33-4a5b-c1b2-d72453c82ae8"
      },
      "outputs": [
        {
          "output_type": "stream",
          "name": "stdout",
          "text": [
            "5! = 120\n"
          ]
        }
      ],
      "source": [
        "n = 5  # change to test\n",
        "if n < 0:\n",
        "    print(\"Factorial is not defined for negative numbers.\")\n",
        "else:\n",
        "    fact = 1\n",
        "    i = 1\n",
        "    while i <= n:\n",
        "        fact *= i\n",
        "        i += 1\n",
        "    print(f\"{n}! =\", fact)\n",
        "\n",
        "# Input-based version (uncomment to use):\n",
        "# n = int(input(\"Enter a non-negative integer: \"))\n",
        "# if n < 0:\n",
        "#     print(\"Factorial is not defined for negative numbers.\")\n",
        "# else:\n",
        "#     fact = 1\n",
        "#     i = 1\n",
        "#     while i <= n:\n",
        "#         fact *= i\n",
        "#         i += 1\n",
        "#     print(f\"{n}! =\", fact)\n"
      ]
    },
    {
      "cell_type": "markdown",
      "id": "fb500337",
      "metadata": {
        "id": "fb500337"
      },
      "source": [
        "### (Bonus) Quick demo: `==` vs `is`"
      ]
    },
    {
      "cell_type": "code",
      "execution_count": null,
      "id": "926700c7",
      "metadata": {
        "id": "926700c7"
      },
      "outputs": [],
      "source": [
        "a = [1,2,3]\n",
        "b = [1,2,3]\n",
        "c = a\n",
        "print(\"a == b:\", a == b)   # True: same contents\n",
        "print(\"a is b:\", a is b)   # False: different objects\n",
        "print(\"a is c:\", a is c)   # True: same object reference\n"
      ]
    }
  ],
  "metadata": {
    "kernelspec": {
      "display_name": "Python 3 (ipykernel)",
      "language": "python",
      "name": "python3"
    },
    "language_info": {
      "codemirror_mode": {
        "name": "ipython",
        "version": 3
      },
      "file_extension": ".py",
      "mimetype": "text/x-python",
      "name": "python",
      "nbconvert_exporter": "python",
      "pygments_lexer": "ipython3",
      "version": "3.13.5"
    },
    "colab": {
      "provenance": []
    }
  },
  "nbformat": 4,
  "nbformat_minor": 5
}