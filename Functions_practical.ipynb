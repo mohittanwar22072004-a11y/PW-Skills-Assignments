{
  "cells": [
    {
      "cell_type": "markdown",
      "id": "16da5ba5",
      "metadata": {
        "id": "16da5ba5"
      },
      "source": [
        "#Practical Questions"
      ]
    },
    {
      "cell_type": "markdown",
      "id": "a3165196",
      "metadata": {
        "id": "a3165196"
      },
      "source": [
        "### 1) Sum of even numbers"
      ]
    },
    {
      "cell_type": "code",
      "execution_count": 1,
      "id": "681f6809",
      "metadata": {
        "colab": {
          "base_uri": "https://localhost:8080/"
        },
        "id": "681f6809",
        "outputId": "06cccbca-aa1a-4c7c-ade0-4dc450471a24"
      },
      "outputs": [
        {
          "output_type": "stream",
          "name": "stdout",
          "text": [
            "12\n"
          ]
        }
      ],
      "source": [
        "def sum_even(lst):\n",
        "    return sum(x for x in lst if x%2==0)\n",
        "print(sum_even([1,2,3,4,5,6]))"
      ]
    },
    {
      "cell_type": "markdown",
      "id": "68239a06",
      "metadata": {
        "id": "68239a06"
      },
      "source": [
        "### 2) Reverse string"
      ]
    },
    {
      "cell_type": "code",
      "execution_count": 2,
      "id": "3d229894",
      "metadata": {
        "colab": {
          "base_uri": "https://localhost:8080/"
        },
        "id": "3d229894",
        "outputId": "3112c033-2233-4df9-ba1b-fc1e0e247639"
      },
      "outputs": [
        {
          "output_type": "stream",
          "name": "stdout",
          "text": [
            "olleh\n"
          ]
        }
      ],
      "source": [
        "def reverse_str(s): return s[::-1]\n",
        "print(reverse_str('hello'))"
      ]
    },
    {
      "cell_type": "markdown",
      "id": "05d526a2",
      "metadata": {
        "id": "05d526a2"
      },
      "source": [
        "### 3) Squares of numbers"
      ]
    },
    {
      "cell_type": "code",
      "execution_count": 3,
      "id": "e416b830",
      "metadata": {
        "colab": {
          "base_uri": "https://localhost:8080/"
        },
        "id": "e416b830",
        "outputId": "9841e921-bba4-4bf2-81c6-d14661366e3f"
      },
      "outputs": [
        {
          "output_type": "stream",
          "name": "stdout",
          "text": [
            "[1, 4, 9, 16]\n"
          ]
        }
      ],
      "source": [
        "def squares(lst): return [x*x for x in lst]\n",
        "print(squares([1,2,3,4]))"
      ]
    },
    {
      "cell_type": "markdown",
      "id": "1017722a",
      "metadata": {
        "id": "1017722a"
      },
      "source": [
        "### 4) Prime check 1-200"
      ]
    },
    {
      "cell_type": "code",
      "execution_count": 4,
      "id": "111241d4",
      "metadata": {
        "colab": {
          "base_uri": "https://localhost:8080/"
        },
        "id": "111241d4",
        "outputId": "b0d70ec3-a034-48c5-c890-14e31ecab1f6"
      },
      "outputs": [
        {
          "output_type": "stream",
          "name": "stdout",
          "text": [
            "[2, 3, 5, 7, 11, 13, 17, 19, 23, 29, 31, 37, 41, 43, 47, 53, 59, 61, 67, 71, 73, 79, 83, 89, 97, 101, 103, 107, 109, 113, 127, 131, 137, 139, 149, 151, 157, 163, 167, 173, 179, 181, 191, 193, 197, 199]\n"
          ]
        }
      ],
      "source": [
        "def is_prime(n):\n",
        "    if n<2: return False\n",
        "    for i in range(2,int(n**0.5)+1):\n",
        "        if n%i==0: return False\n",
        "    return True\n",
        "primes=[x for x in range(1,201) if is_prime(x)]\n",
        "print(primes)"
      ]
    },
    {
      "cell_type": "markdown",
      "id": "df5f8164",
      "metadata": {
        "id": "df5f8164"
      },
      "source": [
        "### 5) Iterator Fibonacci"
      ]
    },
    {
      "cell_type": "code",
      "execution_count": 5,
      "id": "396b585a",
      "metadata": {
        "colab": {
          "base_uri": "https://localhost:8080/"
        },
        "id": "396b585a",
        "outputId": "51f2a966-9f7a-4a6e-8362-3c14c657c834"
      },
      "outputs": [
        {
          "output_type": "stream",
          "name": "stdout",
          "text": [
            "[0, 1, 1, 2, 3, 5, 8, 13, 21, 34]\n"
          ]
        }
      ],
      "source": [
        "class Fibonacci:\n",
        "    def __init__(self,n): self.n=n; self.a=0; self.b=1; self.count=0\n",
        "    def __iter__(self): return self\n",
        "    def __next__(self):\n",
        "        if self.count>=self.n: raise StopIteration\n",
        "        if self.count==0: self.count+=1; return 0\n",
        "        elif self.count==1: self.count+=1; return 1\n",
        "        else:\n",
        "            self.a,self.b=self.b,self.a+self.b\n",
        "            self.count+=1\n",
        "            return self.b\n",
        "print(list(Fibonacci(10)))"
      ]
    },
    {
      "cell_type": "markdown",
      "id": "c2f157bc",
      "metadata": {
        "id": "c2f157bc"
      },
      "source": [
        "### 6) Generator powers of 2"
      ]
    },
    {
      "cell_type": "code",
      "execution_count": 6,
      "id": "8b2f14b7",
      "metadata": {
        "colab": {
          "base_uri": "https://localhost:8080/"
        },
        "id": "8b2f14b7",
        "outputId": "468c7814-0ad9-4539-f374-0047ce6a11d2"
      },
      "outputs": [
        {
          "output_type": "stream",
          "name": "stdout",
          "text": [
            "[1, 2, 4, 8, 16, 32]\n"
          ]
        }
      ],
      "source": [
        "def gen_powers(n):\n",
        "    for i in range(n+1): yield 2**i\n",
        "print(list(gen_powers(5)))"
      ]
    },
    {
      "cell_type": "markdown",
      "id": "91c70fcd",
      "metadata": {
        "id": "91c70fcd"
      },
      "source": [
        "### 7) Generator read file"
      ]
    },
    {
      "cell_type": "code",
      "source": [
        "def read_file(fname):\n",
        "    with open(fname) as f:\n",
        "        for line in f: yield line.strip()\n",
        "# usage: for l in read_file('sample.txt'): print(l)\n"
      ],
      "metadata": {
        "id": "azyxyhZTn-xU"
      },
      "id": "azyxyhZTn-xU",
      "execution_count": 24,
      "outputs": []
    },
    {
      "cell_type": "markdown",
      "id": "18825bac",
      "metadata": {
        "id": "18825bac"
      },
      "source": [
        "### 8) Lambda sort by 2nd"
      ]
    },
    {
      "cell_type": "code",
      "execution_count": 8,
      "id": "1dac9a78",
      "metadata": {
        "colab": {
          "base_uri": "https://localhost:8080/"
        },
        "id": "1dac9a78",
        "outputId": "fa859490-cda0-4e8c-9bdf-62cb00e4cebd"
      },
      "outputs": [
        {
          "output_type": "stream",
          "name": "stdout",
          "text": [
            "[(2, 1), (3, 2), (1, 3)]\n"
          ]
        }
      ],
      "source": [
        "lst=[(1,3),(2,1),(3,2)]\n",
        "lst.sort(key=lambda x:x[1])\n",
        "print(lst)"
      ]
    },
    {
      "cell_type": "markdown",
      "id": "45bf26f8",
      "metadata": {
        "id": "45bf26f8"
      },
      "source": [
        "### 9) Map Celsius->F"
      ]
    },
    {
      "cell_type": "code",
      "execution_count": 12,
      "id": "daa5efe2",
      "metadata": {
        "colab": {
          "base_uri": "https://localhost:8080/"
        },
        "id": "daa5efe2",
        "outputId": "4d260168-6743-4c9b-8cac-4e3ecb9932ce"
      },
      "outputs": [
        {
          "output_type": "stream",
          "name": "stdout",
          "text": [
            "[32.0, 50.0, 68.0]\n"
          ]
        }
      ],
      "source": [
        "temps=[0,10,20]\n",
        "print(list(map(lambda c:(9/5)*c+32,temps)))"
      ]
    },
    {
      "cell_type": "markdown",
      "id": "1fee93d2",
      "metadata": {
        "id": "1fee93d2"
      },
      "source": [
        "### 10) Filter remove vowels"
      ]
    },
    {
      "cell_type": "code",
      "execution_count": 13,
      "id": "b05bf676",
      "metadata": {
        "colab": {
          "base_uri": "https://localhost:8080/"
        },
        "id": "b05bf676",
        "outputId": "23e8e454-e478-4588-9233-016247730c53"
      },
      "outputs": [
        {
          "output_type": "stream",
          "name": "stdout",
          "text": [
            "hll wrld\n"
          ]
        }
      ],
      "source": [
        "s='hello world'\n",
        "vowels='aeiou'\n",
        "print(''.join(filter(lambda ch: ch not in vowels,s)))"
      ]
    },
    {
      "cell_type": "markdown",
      "id": "dd79f694",
      "metadata": {
        "id": "dd79f694"
      },
      "source": [
        "### 11) Accounting routine"
      ]
    },
    {
      "cell_type": "code",
      "execution_count": 14,
      "id": "9722b3c3",
      "metadata": {
        "colab": {
          "base_uri": "https://localhost:8080/"
        },
        "id": "9722b3c3",
        "outputId": "0508ea1b-381c-49ee-d59c-38c08b8a7797"
      },
      "outputs": [
        {
          "output_type": "stream",
          "name": "stdout",
          "text": [
            "[(34587, 163.8), (98762, 284.0), (77226, 108.85000000000001), (88112, 84.97)]\n"
          ]
        }
      ],
      "source": [
        "orders=[[34587,'Learning Python',4,40.95],[98762,'Programming Java',5,56.80],[77226,'Head First C',3,32.95],[88112,'Intro to AI',3,24.99]]\n",
        "result=list(map(lambda x:(x[0], x[2]*x[3] if x[2]*x[3]>=100 else x[2]*x[3]+10), orders))\n",
        "print(result)"
      ]
    }
  ],
  "metadata": {
    "colab": {
      "provenance": []
    },
    "language_info": {
      "name": "python"
    },
    "kernelspec": {
      "name": "python3",
      "display_name": "Python 3"
    }
  },
  "nbformat": 4,
  "nbformat_minor": 5
}