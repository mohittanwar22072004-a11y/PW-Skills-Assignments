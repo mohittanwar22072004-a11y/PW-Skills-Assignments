{
  "cells": [
    {
      "cell_type": "markdown",
      "id": "669f3a7b",
      "metadata": {
        "id": "669f3a7b"
      },
      "source": [
        "#Practical Questions"
      ]
    },
    {
      "cell_type": "markdown",
      "id": "f22d24cc",
      "metadata": {
        "id": "f22d24cc"
      },
      "source": [
        "### 1) Create a parent class Animal with a method speak() that prints a generic message. Create a child class Dog that overrides the speak() method to print \"Bark!\"."
      ]
    },
    {
      "cell_type": "code",
      "execution_count": 1,
      "id": "98018c68",
      "metadata": {
        "colab": {
          "base_uri": "https://localhost:8080/"
        },
        "id": "98018c68",
        "outputId": "b89203e0-2aa3-49a6-c795-265899f90722"
      },
      "outputs": [
        {
          "output_type": "stream",
          "name": "stdout",
          "text": [
            "Bark!\n"
          ]
        }
      ],
      "source": [
        "class Animal:\n",
        "    def speak(self): print(\"Generic sound\")\n",
        "class Dog(Animal):\n",
        "    def speak(self): print(\"Bark!\")\n",
        "Dog().speak()"
      ]
    },
    {
      "cell_type": "markdown",
      "id": "61b48f0f",
      "metadata": {
        "id": "61b48f0f"
      },
      "source": [
        "### 2) Write a program to create an abstract class Shape with a method area(). Derive classes Circle and Rectangle from it and implement the area() method in both"
      ]
    },
    {
      "cell_type": "code",
      "execution_count": 19,
      "id": "02fae711",
      "metadata": {
        "colab": {
          "base_uri": "https://localhost:8080/"
        },
        "id": "02fae711",
        "outputId": "bf0abe82-3548-42d2-b25a-d51c06cd2484"
      },
      "outputs": [
        {
          "output_type": "stream",
          "name": "stdout",
          "text": [
            "Circle area:  78.53981633974483\n",
            "Rectangle area:  30\n"
          ]
        }
      ],
      "source": [
        "from abc import ABC, abstractmethod\n",
        "import math\n",
        "\n",
        "class Shape(ABC):\n",
        "    @abstractmethod\n",
        "    def area(self):\n",
        "        pass\n",
        "\n",
        "class Circle(Shape):\n",
        "    def __init__(self, radius):\n",
        "        self.radius = radius\n",
        "\n",
        "    def area(self):\n",
        "        return math.pi*self.radius**2\n",
        "\n",
        "class Rectangle(Shape):\n",
        "    def __init__(self, width, height):\n",
        "        self.width = width\n",
        "        self.height = height\n",
        "\n",
        "    def area(self):\n",
        "        return self.width*self.height\n",
        "\n",
        "c = Circle(5)\n",
        "r = Rectangle(5,6)\n",
        "\n",
        "print(\"Circle area: \", c.area())\n",
        "print(\"Rectangle area: \", r.area())"
      ]
    },
    {
      "cell_type": "markdown",
      "id": "b42ba016",
      "metadata": {
        "id": "b42ba016"
      },
      "source": [
        "### 3)  Implement a multi-level inheritance scenario where a class Vehicle has an attribute type. Derive a class Car and further derive a class ElectricCar that adds a battery attribute."
      ]
    },
    {
      "cell_type": "code",
      "execution_count": 3,
      "id": "1ff73b3f",
      "metadata": {
        "colab": {
          "base_uri": "https://localhost:8080/"
        },
        "id": "1ff73b3f",
        "outputId": "78ecbed0-2cac-4dbc-8e34-df875a10ea8c"
      },
      "outputs": [
        {
          "output_type": "stream",
          "name": "stdout",
          "text": [
            "{'type': 'Car', 'brand': 'Tesla', 'battery': '100kWh'}\n"
          ]
        }
      ],
      "source": [
        "class Vehicle:\n",
        "    def __init__(self,t): self.type=t\n",
        "class Car(Vehicle):\n",
        "    def __init__(self,t,brand): super().__init__(t); self.brand=brand\n",
        "class ElectricCar(Car):\n",
        "    def __init__(self,t,brand,batt): super().__init__(t,brand); self.battery=batt\n",
        "print(ElectricCar('Car','Tesla','100kWh').__dict__)"
      ]
    },
    {
      "cell_type": "markdown",
      "id": "08e3dc80",
      "metadata": {
        "id": "08e3dc80"
      },
      "source": [
        "### 4) Demonstrate polymorphism by creating a base class Bird with a method fly(). Create two derived classes Sparrow and Penguin that override the fly() method."
      ]
    },
    {
      "cell_type": "code",
      "execution_count": 4,
      "id": "88de0cb5",
      "metadata": {
        "colab": {
          "base_uri": "https://localhost:8080/"
        },
        "id": "88de0cb5",
        "outputId": "334c8063-5456-432f-adc9-f59efeba7445"
      },
      "outputs": [
        {
          "output_type": "stream",
          "name": "stdout",
          "text": [
            "Sparrow flies high\n",
            "Penguins can't fly\n"
          ]
        }
      ],
      "source": [
        "class Bird:\n",
        "    def fly(self): print('Bird flying')\n",
        "class Sparrow(Bird):\n",
        "    def fly(self): print('Sparrow flies high')\n",
        "class Penguin(Bird):\n",
        "    def fly(self): print(\"Penguins can't fly\")\n",
        "for b in [Sparrow(),Penguin()]: b.fly()"
      ]
    },
    {
      "cell_type": "markdown",
      "id": "e1bb4072",
      "metadata": {
        "id": "e1bb4072"
      },
      "source": [
        "### 5) Write a program to demonstrate encapsulation by creating a class BankAccount with private attributes balance and methods to deposit, withdraw, and check balance."
      ]
    },
    {
      "cell_type": "code",
      "execution_count": 5,
      "id": "8dc8dc7a",
      "metadata": {
        "colab": {
          "base_uri": "https://localhost:8080/"
        },
        "id": "8dc8dc7a",
        "outputId": "04f6660c-500f-42c0-f778-5f1e880246ea"
      },
      "outputs": [
        {
          "output_type": "stream",
          "name": "stdout",
          "text": [
            "120\n"
          ]
        }
      ],
      "source": [
        "class BankAccount:\n",
        "    def __init__(self,b=0): self.__bal=b\n",
        "    def deposit(self,a): self.__bal+=a\n",
        "    def withdraw(self,a):\n",
        "        if a<=self.__bal: self.__bal-=a\n",
        "        else: print('Insufficient')\n",
        "    def balance(self): return self.__bal\n",
        "acc=BankAccount(100); acc.deposit(50); acc.withdraw(30); print(acc.balance())"
      ]
    },
    {
      "cell_type": "markdown",
      "id": "36243d91",
      "metadata": {
        "id": "36243d91"
      },
      "source": [
        "### 6) Demonstrate runtime polymorphism using a method play() in a base class Instrument. Derive classes Guitar and Piano that implement their own version of play().\n"
      ]
    },
    {
      "cell_type": "code",
      "execution_count": 6,
      "id": "064d95cf",
      "metadata": {
        "colab": {
          "base_uri": "https://localhost:8080/"
        },
        "id": "064d95cf",
        "outputId": "319dcdb5-00d4-4862-a8c5-279306e157a6"
      },
      "outputs": [
        {
          "output_type": "stream",
          "name": "stdout",
          "text": [
            "Strum\n",
            "Piano\n"
          ]
        }
      ],
      "source": [
        "class Instrument:\n",
        "    def play(self): print('Generic')\n",
        "class Guitar(Instrument):\n",
        "    def play(self): print('Strum')\n",
        "class Piano(Instrument):\n",
        "    def play(self): print('Piano')\n",
        "for i in [Guitar(),Piano()]: i.play()"
      ]
    },
    {
      "cell_type": "markdown",
      "id": "80def7ff",
      "metadata": {
        "id": "80def7ff"
      },
      "source": [
        "### 7) Create a class MathOperations with a class method add_numbers() to add two numbers and a static method subtract_numbers() to subtract two numbers."
      ]
    },
    {
      "cell_type": "code",
      "execution_count": 7,
      "id": "7ae82c07",
      "metadata": {
        "colab": {
          "base_uri": "https://localhost:8080/"
        },
        "id": "7ae82c07",
        "outputId": "9b843083-6efc-410a-8ac7-8299d61df201"
      },
      "outputs": [
        {
          "output_type": "stream",
          "name": "stdout",
          "text": [
            "5 3\n"
          ]
        }
      ],
      "source": [
        "class MathOps:\n",
        "    @classmethod\n",
        "    def add(cls,a,b): return a+b\n",
        "    @staticmethod\n",
        "    def sub(a,b): return a-b\n",
        "print(MathOps.add(2,3), MathOps.sub(5,2))"
      ]
    },
    {
      "cell_type": "markdown",
      "id": "2dcf0b36",
      "metadata": {
        "id": "2dcf0b36"
      },
      "source": [
        "### 8)  Implement a class Person with a class method to count the total number of persons created."
      ]
    },
    {
      "cell_type": "code",
      "execution_count": 8,
      "id": "2cbdbe13",
      "metadata": {
        "colab": {
          "base_uri": "https://localhost:8080/"
        },
        "id": "2cbdbe13",
        "outputId": "ba8e4982-6524-405c-ec0a-b56a006d1909"
      },
      "outputs": [
        {
          "output_type": "stream",
          "name": "stdout",
          "text": [
            "2\n"
          ]
        }
      ],
      "source": [
        "class Person:\n",
        "    count=0\n",
        "    def __init__(self,name): self.name=name; Person.count+=1\n",
        "    @classmethod\n",
        "    def total(cls): return cls.count\n",
        "p1=Person('A'); p2=Person('B'); print(Person.total())"
      ]
    },
    {
      "cell_type": "markdown",
      "id": "d0154a02",
      "metadata": {
        "id": "d0154a02"
      },
      "source": [
        "   ## 9) Write a class Fraction with attributes numerator and denominator. Override the str method to display the fraction as \"numerator/denominator\"."
      ]
    },
    {
      "cell_type": "code",
      "execution_count": 9,
      "id": "4c5777a4",
      "metadata": {
        "colab": {
          "base_uri": "https://localhost:8080/"
        },
        "id": "4c5777a4",
        "outputId": "e7d47a59-6229-4500-9a26-ee3738eca0a6"
      },
      "outputs": [
        {
          "output_type": "stream",
          "name": "stdout",
          "text": [
            "3/4\n"
          ]
        }
      ],
      "source": [
        "class Fraction:\n",
        "    def __init__(self,n,d): self.n=n; self.d=d\n",
        "    def __str__(self): return f\"{self.n}/{self.d}\"\n",
        "print(Fraction(3,4))"
      ]
    },
    {
      "cell_type": "markdown",
      "id": "4bf7a8d1",
      "metadata": {
        "id": "4bf7a8d1"
      },
      "source": [
        "### 10) Demonstrate operator overloading by creating a class Vector and overriding the add method to add two vectors."
      ]
    },
    {
      "cell_type": "code",
      "execution_count": 10,
      "id": "5b0e1b69",
      "metadata": {
        "colab": {
          "base_uri": "https://localhost:8080/"
        },
        "id": "5b0e1b69",
        "outputId": "f2944360-f1cd-43fb-deb6-cd3014d9759e"
      },
      "outputs": [
        {
          "output_type": "stream",
          "name": "stdout",
          "text": [
            "(4,6)\n"
          ]
        }
      ],
      "source": [
        "class Vector:\n",
        "    def __init__(self,x,y): self.x=x; self.y=y\n",
        "    def __add__(self,o): return Vector(self.x+o.x,self.y+o.y)\n",
        "    def __str__(self): return f\"({self.x},{self.y})\"\n",
        "print(Vector(1,2)+Vector(3,4))"
      ]
    },
    {
      "cell_type": "markdown",
      "id": "7f643d66",
      "metadata": {
        "id": "7f643d66"
      },
      "source": [
        "### 11) Create a class Person with attributes name and age. Add a method greet() that prints \"Hello, my name is {name} and I am {age} years old.\"\n"
      ]
    },
    {
      "cell_type": "code",
      "execution_count": 11,
      "id": "fb587049",
      "metadata": {
        "colab": {
          "base_uri": "https://localhost:8080/"
        },
        "id": "fb587049",
        "outputId": "0659b683-47c9-4a4d-c620-292c201bfa6b"
      },
      "outputs": [
        {
          "output_type": "stream",
          "name": "stdout",
          "text": [
            "Hello, my name is John and I am 25 years old.\n"
          ]
        }
      ],
      "source": [
        "class Person:\n",
        "    def __init__(self,n,a): self.n=n; self.a=a\n",
        "    def greet(self): print(f\"Hello, my name is {self.n} and I am {self.a} years old.\")\n",
        "Person('John',25).greet()"
      ]
    },
    {
      "cell_type": "markdown",
      "id": "fc202901",
      "metadata": {
        "id": "fc202901"
      },
      "source": [
        "### 12) Implement a class Student with attributes name and grades. Create a method average_grade() to compute the average of the grades.\n"
      ]
    },
    {
      "cell_type": "code",
      "execution_count": 12,
      "id": "fb73a6df",
      "metadata": {
        "colab": {
          "base_uri": "https://localhost:8080/"
        },
        "id": "fb73a6df",
        "outputId": "93415951-c039-4d85-86ff-340112971d20"
      },
      "outputs": [
        {
          "output_type": "stream",
          "name": "stdout",
          "text": [
            "90.0\n"
          ]
        }
      ],
      "source": [
        "class Student:\n",
        "    def __init__(self,n,grades): self.n=n; self.grades=grades\n",
        "    def avg(self): return sum(self.grades)/len(self.grades)\n",
        "print(Student('A',[80,90,100]).avg())"
      ]
    },
    {
      "cell_type": "markdown",
      "id": "97dfa04c",
      "metadata": {
        "id": "97dfa04c"
      },
      "source": [
        "### 13) Create a class Rectangle with methods set_dimensions() to set the dimensions and area() to calculate the area."
      ]
    },
    {
      "cell_type": "code",
      "execution_count": 13,
      "id": "1d354850",
      "metadata": {
        "colab": {
          "base_uri": "https://localhost:8080/"
        },
        "id": "1d354850",
        "outputId": "906fdd5d-d427-42f3-cdc2-d2e526f7b4cf"
      },
      "outputs": [
        {
          "output_type": "stream",
          "name": "stdout",
          "text": [
            "20\n"
          ]
        }
      ],
      "source": [
        "class Rectangle:\n",
        "    def set_dimensions(self,w,h): self.w=w; self.h=h\n",
        "    def area(self): return self.w*self.h\n",
        "r=Rectangle(); r.set_dimensions(4,5); print(r.area())"
      ]
    },
    {
      "cell_type": "markdown",
      "id": "7ea9bafd",
      "metadata": {
        "id": "7ea9bafd"
      },
      "source": [
        "### 14) Create a class Employee with a method calculate_salary() that computes the salary based on hours worked and hourly rate. Create a derived class Manager that adds a bonus to the salary.\n"
      ]
    },
    {
      "cell_type": "code",
      "execution_count": 14,
      "id": "85047ccd",
      "metadata": {
        "colab": {
          "base_uri": "https://localhost:8080/"
        },
        "id": "85047ccd",
        "outputId": "f3bb5faf-ff05-442e-ae59-df8012c45bb7"
      },
      "outputs": [
        {
          "output_type": "stream",
          "name": "stdout",
          "text": [
            "1000\n"
          ]
        }
      ],
      "source": [
        "class Employee:\n",
        "    def __init__(self,h,r): self.h=h; self.r=r\n",
        "    def salary(self): return self.h*self.r\n",
        "class Manager(Employee):\n",
        "    def __init__(self,h,r,b): super().__init__(h,r); self.b=b\n",
        "    def salary(self): return super().salary()+self.b\n",
        "print(Manager(40,20,200).salary())"
      ]
    },
    {
      "cell_type": "markdown",
      "id": "5f631863",
      "metadata": {
        "id": "5f631863"
      },
      "source": [
        "### 15) Create a class Product with attributes name, price, and quantity. Implement a method total_price() that calculates the total price of the product"
      ]
    },
    {
      "cell_type": "code",
      "execution_count": 15,
      "id": "d09c988e",
      "metadata": {
        "colab": {
          "base_uri": "https://localhost:8080/"
        },
        "id": "d09c988e",
        "outputId": "56887246-f0b6-4b32-d362-840887ae9f64"
      },
      "outputs": [
        {
          "output_type": "stream",
          "name": "stdout",
          "text": [
            "50\n"
          ]
        }
      ],
      "source": [
        "class Product:\n",
        "    def __init__(self,n,p,q): self.n=n; self.p=p; self.q=q\n",
        "    def total(self): return self.p*self.q\n",
        "print(Product('Pen',10,5).total())"
      ]
    },
    {
      "cell_type": "markdown",
      "id": "1c6fff71",
      "metadata": {
        "id": "1c6fff71"
      },
      "source": [
        "### 16) Create a class Animal with an abstract method sound(). Create two derived classes Cow and Sheep that implement the sound() method."
      ]
    },
    {
      "cell_type": "code",
      "execution_count": 16,
      "id": "18c96ce7",
      "metadata": {
        "colab": {
          "base_uri": "https://localhost:8080/"
        },
        "id": "18c96ce7",
        "outputId": "f6d72dc3-33d6-4ae7-eebd-a2645676bc6e"
      },
      "outputs": [
        {
          "output_type": "stream",
          "name": "stdout",
          "text": [
            "Moo\n",
            "Baa\n"
          ]
        }
      ],
      "source": [
        "from abc import ABC,abstractmethod\n",
        "class Animal(ABC):\n",
        "    @abstractmethod\n",
        "    def sound(self): pass\n",
        "class Cow(Animal):\n",
        "    def sound(self): print('Moo')\n",
        "class Sheep(Animal):\n",
        "    def sound(self): print('Baa')\n",
        "for a in [Cow(),Sheep()]: a.sound()"
      ]
    },
    {
      "cell_type": "markdown",
      "id": "b8b5c768",
      "metadata": {
        "id": "b8b5c768"
      },
      "source": [
        "\n",
        "### 17)  Create a class Book with attributes title, author, and year_published. Add a method get_book_info() that returns a formatted string with the book's details."
      ]
    },
    {
      "cell_type": "code",
      "execution_count": 17,
      "id": "9ebee99c",
      "metadata": {
        "colab": {
          "base_uri": "https://localhost:8080/"
        },
        "id": "9ebee99c",
        "outputId": "3689ed7c-0777-4c0a-d2b9-5868a8846eb0"
      },
      "outputs": [
        {
          "output_type": "stream",
          "name": "stdout",
          "text": [
            "1984 by Orwell, 1949\n"
          ]
        }
      ],
      "source": [
        "class Book:\n",
        "    def __init__(self,t,a,y): self.t=t; self.a=a; self.y=y\n",
        "    def info(self): return f\"{self.t} by {self.a}, {self.y}\"\n",
        "print(Book('1984','Orwell',1949).info())"
      ]
    },
    {
      "cell_type": "markdown",
      "id": "1d390f86",
      "metadata": {
        "id": "1d390f86"
      },
      "source": [
        "### 18) Create a class House with attributes address and price. Create a derived class Mansion that adds an attribute number_of_rooms."
      ]
    },
    {
      "cell_type": "code",
      "execution_count": 18,
      "id": "1a9f1f0e",
      "metadata": {
        "colab": {
          "base_uri": "https://localhost:8080/"
        },
        "id": "1a9f1f0e",
        "outputId": "a3244bfd-a128-4120-c7ea-32f805b52a7b"
      },
      "outputs": [
        {
          "output_type": "stream",
          "name": "stdout",
          "text": [
            "{'addr': 'NY', 'price': 1000000, 'rooms': 10}\n"
          ]
        }
      ],
      "source": [
        "class House:\n",
        "    def __init__(self,addr,price): self.addr=addr; self.price=price\n",
        "class Mansion(House):\n",
        "    def __init__(self,addr,price,rooms): super().__init__(addr,price); self.rooms=rooms\n",
        "print(Mansion('NY',1000000,10).__dict__)"
      ]
    }
  ],
  "metadata": {
    "colab": {
      "provenance": []
    },
    "language_info": {
      "name": "python"
    },
    "kernelspec": {
      "name": "python3",
      "display_name": "Python 3"
    }
  },
  "nbformat": 4,
  "nbformat_minor": 5
}